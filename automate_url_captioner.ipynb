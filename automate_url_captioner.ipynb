{
  "nbformat": 4,
  "nbformat_minor": 0,
  "metadata": {
    "colab": {
      "provenance": [],
      "gpuType": "A100",
      "authorship_tag": "ABX9TyPcScQjPHDwAPXzHGZZKgmS",
      "include_colab_link": true
    },
    "kernelspec": {
      "name": "python3",
      "display_name": "Python 3"
    },
    "language_info": {
      "name": "python"
    },
    "accelerator": "GPU"
  },
  "cells": [
    {
      "cell_type": "markdown",
      "metadata": {
        "id": "view-in-github",
        "colab_type": "text"
      },
      "source": [
        "<a href=\"https://colab.research.google.com/github/gianmarioiamoni/Gradio-demo/blob/main/automate_url_captioner.ipynb\" target=\"_parent\"><img src=\"https://colab.research.google.com/assets/colab-badge.svg\" alt=\"Open In Colab\"/></a>"
      ]
    },
    {
      "cell_type": "code",
      "execution_count": 1,
      "metadata": {
        "colab": {
          "base_uri": "https://localhost:8080/"
        },
        "id": "Go4KdhBFK5Yw",
        "outputId": "0f17b2a5-558d-4894-d217-755961166a11"
      },
      "outputs": [
        {
          "output_type": "stream",
          "name": "stdout",
          "text": [
            "Requirement already satisfied: requests in /usr/local/lib/python3.10/dist-packages (2.32.3)\n",
            "Requirement already satisfied: charset-normalizer<4,>=2 in /usr/local/lib/python3.10/dist-packages (from requests) (3.4.0)\n",
            "Requirement already satisfied: idna<4,>=2.5 in /usr/local/lib/python3.10/dist-packages (from requests) (3.10)\n",
            "Requirement already satisfied: urllib3<3,>=1.21.1 in /usr/local/lib/python3.10/dist-packages (from requests) (2.2.3)\n",
            "Requirement already satisfied: certifi>=2017.4.17 in /usr/local/lib/python3.10/dist-packages (from requests) (2024.8.30)\n",
            "Traceback (most recent call last):\n",
            "  File \"<frozen importlib._bootstrap>\", line 188, in _get_module_lock\n",
            "KeyError: 'pip._vendor.rich.protocol'\n",
            "\n",
            "During handling of the above exception, another exception occurred:\n",
            "\n",
            "Traceback (most recent call last):\n",
            "  File \"/usr/local/bin/pip3\", line 5, in <module>\n",
            "    from pip._internal.cli.main import main\n",
            "  File \"/usr/local/lib/python3.10/dist-packages/pip/_internal/cli/main.py\", line 11, in <module>\n",
            "    from pip._internal.cli.autocompletion import autocomplete\n",
            "  File \"/usr/local/lib/python3.10/dist-packages/pip/_internal/cli/autocompletion.py\", line 10, in <module>\n",
            "    from pip._internal.cli.main_parser import create_main_parser\n",
            "  File \"/usr/local/lib/python3.10/dist-packages/pip/_internal/cli/main_parser.py\", line 9, in <module>\n",
            "    from pip._internal.build_env import get_runnable_pip\n",
            "  File \"/usr/local/lib/python3.10/dist-packages/pip/_internal/build_env.py\", line 19, in <module>\n",
            "    from pip._internal.cli.spinners import open_spinner\n",
            "  File \"/usr/local/lib/python3.10/dist-packages/pip/_internal/cli/spinners.py\", line 9, in <module>\n",
            "    from pip._internal.utils.logging import get_indentation\n",
            "  File \"/usr/local/lib/python3.10/dist-packages/pip/_internal/utils/logging.py\", line 13, in <module>\n",
            "    from pip._vendor.rich.console import (\n",
            "  File \"/usr/local/lib/python3.10/dist-packages/pip/_vendor/rich/console.py\", line 51, in <module>\n",
            "    from ._log_render import FormatTimeCallable, LogRender\n",
            "  File \"/usr/local/lib/python3.10/dist-packages/pip/_vendor/rich/_log_render.py\", line 5, in <module>\n",
            "    from .text import Text, TextType\n",
            "  File \"/usr/local/lib/python3.10/dist-packages/pip/_vendor/rich/text.py\", line 21, in <module>\n",
            "    from .align import AlignMethod\n",
            "  File \"/usr/local/lib/python3.10/dist-packages/pip/_vendor/rich/align.py\", line 10, in <module>\n",
            "    from .constrain import Constrain\n",
            "  File \"/usr/local/lib/python3.10/dist-packages/pip/_vendor/rich/constrain.py\", line 4, in <module>\n",
            "    from .measure import Measurement\n",
            "  File \"/usr/local/lib/python3.10/dist-packages/pip/_vendor/rich/measure.py\", line 5, in <module>\n",
            "    from .protocol import is_renderable, rich_cast\n",
            "  File \"<frozen importlib._bootstrap>\", line 1024, in _find_and_load\n",
            "  File \"<frozen importlib._bootstrap>\", line 170, in __enter__\n",
            "  File \"<frozen importlib._bootstrap>\", line 188, in _get_module_lock\n",
            "KeyboardInterrupt\n",
            "^C\n",
            "Requirement already satisfied: transformers in /usr/local/lib/python3.10/dist-packages (4.44.2)\n",
            "Requirement already satisfied: filelock in /usr/local/lib/python3.10/dist-packages (from transformers) (3.16.1)\n",
            "Requirement already satisfied: huggingface-hub<1.0,>=0.23.2 in /usr/local/lib/python3.10/dist-packages (from transformers) (0.24.7)\n",
            "Requirement already satisfied: numpy>=1.17 in /usr/local/lib/python3.10/dist-packages (from transformers) (1.26.4)\n",
            "Requirement already satisfied: packaging>=20.0 in /usr/local/lib/python3.10/dist-packages (from transformers) (24.1)\n",
            "Requirement already satisfied: pyyaml>=5.1 in /usr/local/lib/python3.10/dist-packages (from transformers) (6.0.2)\n",
            "Requirement already satisfied: regex!=2019.12.17 in /usr/local/lib/python3.10/dist-packages (from transformers) (2024.9.11)\n",
            "Requirement already satisfied: requests in /usr/local/lib/python3.10/dist-packages (from transformers) (2.32.3)\n",
            "Requirement already satisfied: safetensors>=0.4.1 in /usr/local/lib/python3.10/dist-packages (from transformers) (0.4.5)\n",
            "Requirement already satisfied: tokenizers<0.20,>=0.19 in /usr/local/lib/python3.10/dist-packages (from transformers) (0.19.1)\n",
            "Requirement already satisfied: tqdm>=4.27 in /usr/local/lib/python3.10/dist-packages (from transformers) (4.66.5)\n",
            "Requirement already satisfied: fsspec>=2023.5.0 in /usr/local/lib/python3.10/dist-packages (from huggingface-hub<1.0,>=0.23.2->transformers) (2024.6.1)\n",
            "Requirement already satisfied: typing-extensions>=3.7.4.3 in /usr/local/lib/python3.10/dist-packages (from huggingface-hub<1.0,>=0.23.2->transformers) (4.12.2)\n",
            "Requirement already satisfied: charset-normalizer<4,>=2 in /usr/local/lib/python3.10/dist-packages (from requests->transformers) (3.4.0)\n",
            "Requirement already satisfied: idna<4,>=2.5 in /usr/local/lib/python3.10/dist-packages (from requests->transformers) (3.10)\n",
            "Requirement already satisfied: urllib3<3,>=1.21.1 in /usr/local/lib/python3.10/dist-packages (from requests->transformers) (2.2.3)\n",
            "Requirement already satisfied: certifi>=2017.4.17 in /usr/local/lib/python3.10/dist-packages (from requests->transformers) (2024.8.30)\n",
            "Collecting bs4\n",
            "  Downloading bs4-0.0.2-py2.py3-none-any.whl.metadata (411 bytes)\n",
            "Requirement already satisfied: beautifulsoup4 in /usr/local/lib/python3.10/dist-packages (from bs4) (4.12.3)\n",
            "Requirement already satisfied: soupsieve>1.2 in /usr/local/lib/python3.10/dist-packages (from beautifulsoup4->bs4) (2.6)\n",
            "Downloading bs4-0.0.2-py2.py3-none-any.whl (1.2 kB)\n",
            "Installing collected packages: bs4\n",
            "Successfully installed bs4-0.0.2\n"
          ]
        }
      ],
      "source": [
        "!pip install requests\n",
        "!pip install PIL\n",
        "!pip install transformers\n",
        "!pip install bs4"
      ]
    },
    {
      "cell_type": "markdown",
      "source": [
        "# Automated image captioning tool"
      ],
      "metadata": {
        "id": "CTpinhtwLD9L"
      }
    },
    {
      "cell_type": "code",
      "source": [
        "# Automated image captioning program that works directly from a URL.\n",
        "# The user provides the URL, and the code generates captions for the images found on the webpage.\n",
        "# The output is a text file that includes all the image URLs along with their respective captions."
      ],
      "metadata": {
        "id": "-ZFF801SLH2Z"
      },
      "execution_count": 2,
      "outputs": []
    },
    {
      "cell_type": "code",
      "source": [
        "import requests\n",
        "from PIL import Image\n",
        "from io import BytesIO\n",
        "from bs4 import BeautifulSoup\n",
        "from transformers import AutoProcessor, BlipForConditionalGeneration\n",
        "\n",
        "# Load the pretrained processor and model\n",
        "processor = AutoProcessor.from_pretrained(\"Salesforce/blip-image-captioning-base\")\n",
        "model = BlipForConditionalGeneration.from_pretrained(\"Salesforce/blip-image-captioning-base\")\n",
        "\n",
        "# URL of the page to scrape\n",
        "url = \"https://it.freepik.com/foto/animali\"\n",
        "\n",
        "# Download the page\n",
        "response = requests.get(url)\n",
        "\n",
        "# Parse the page with BeautifulSoup\n",
        "soup = BeautifulSoup(response.text, 'html.parser')\n",
        "\n",
        "# Find all img elements\n",
        "img_elements = soup.find_all('img')\n",
        "\n",
        "# Open a file to write the captions\n",
        "with open(\"captions.txt\", \"w\") as caption_file:\n",
        "    # Iterate over each img element\n",
        "    for img_element in img_elements:\n",
        "        img_url = img_element.get('src')\n",
        "\n",
        "        # Skip if the image is an SVG or too small (likely an icon)\n",
        "        if 'svg' in img_url or '1x1' in img_url:\n",
        "            continue\n",
        "\n",
        "        # Correct the URL if it's malformed\n",
        "        if img_url.startswith('//'):\n",
        "            img_url = 'https:' + img_url\n",
        "        elif not img_url.startswith('http://') and not img_url.startswith('https://'):\n",
        "            continue  # Skip URLs that don't start with http:// or https://\n",
        "        try:\n",
        "            # Download the image\n",
        "            response = requests.get(img_url)\n",
        "\n",
        "            # Convert the image data to a PIL Image\n",
        "            raw_image = Image.open(BytesIO(response.content))\n",
        "            if raw_image.size[0] * raw_image.size[1] < 400:  # Skip very small images\n",
        "                continue\n",
        "            raw_image = raw_image.convert('RGB')\n",
        "\n",
        "            # Process the image\n",
        "            inputs = processor(raw_image, return_tensors=\"pt\")\n",
        "\n",
        "            # Generate a caption for the image\n",
        "            out = model.generate(**inputs, max_new_tokens=50)\n",
        "\n",
        "            # Decode the generated tokens to text\n",
        "            caption = processor.decode(out[0], skip_special_tokens=True)\n",
        "\n",
        "            # Write the caption to the file, prepended by the image URL\n",
        "            caption_file.write(f\"{img_url}: {caption}\\n\")\n",
        "\n",
        "        except Exception as e:\n",
        "            print(f\"Error processing image {img_url}: {e}\")\n",
        "            continue"
      ],
      "metadata": {
        "id": "I1BMHGU8Laf7"
      },
      "execution_count": null,
      "outputs": []
    }
  ]
}